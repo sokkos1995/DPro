{
 "cells": [
  {
   "cell_type": "markdown",
   "metadata": {
    "id": "z_UfsIVY7Fla"
   },
   "source": [
    "ответ на 1 задание:"
   ]
  },
  {
   "cell_type": "code",
   "execution_count": null,
   "metadata": {
    "id": "hfQUMr1c7Ije"
   },
   "outputs": [],
   "source": [
    "df = spark.read.option('inferSchema','true').option('header','true').csv(\"covid.csv\")\n",
    "\n",
    "\n",
    "df_1 = df.select(df[\"iso_code\"], df[\"location\"], df[\"population\"], df[\"date\"], df[\"total_cases\"], df[\"icu_patients\"], df[\"hosp_patients\"], df[\"total_deaths\"], when(col('iso_code').startswith(\"OWID\"), '0').otherwise('1').alias('needness')).na.fill(0).where((df[\"date\"] == '2021-03-31') & (col('needness') == 1))\n",
    "\n",
    "df_1.select(df_1[\"iso_code\"], df_1[\"location\"], ((df_1[\"total_cases\"] - df_1[\"icu_patients\"] - df_1[\"hosp_patients\"] - df_1[\"total_deaths\"]) * 100 /df_1[\"population\"]).alias('percent')).orderBy(col('percent').desc()).show(15)"
   ]
  },
  {
   "cell_type": "markdown",
   "metadata": {
    "id": "6tCHqWGbX1XZ"
   },
   "source": [
    "ответ на 2 задание"
   ]
  },
  {
   "cell_type": "code",
   "execution_count": null,
   "metadata": {
    "id": "84O5lv3TX3dx"
   },
   "outputs": [],
   "source": [
    "df_2 = df.select(df[\"date\"], df[\"location\"], df[\"new_cases\"], df[\"iso_code\"],\n",
    "                 (weekofyear(\"date\")).alias('week_num'), when(col('iso_code').startswith(\"OWID\"), '0').otherwise('1').alias('needness'))\n",
    "                .where((month(\"date\") == 3) & (year(\"date\") == 2021) & (col('needness') == 1))\n",
    "                .sort(col('week_num').desc(), col('new_cases').desc())\n",
    "\n",
    "df_2.groupBy(\"location\").max(\"new_cases\").alias(\"max\").orderBy(col(\"max(new_cases)\").desc()).show(10)"
   ]
  },
  {
   "cell_type": "markdown",
   "metadata": {
    "id": "E0r9L8ocEZzx"
   },
   "source": [
    "ответ на 3 задание"
   ]
  },
  {
   "cell_type": "code",
   "execution_count": null,
   "metadata": {
    "id": "Jz03YvurEcan"
   },
   "outputs": [],
   "source": [
    "from pyspark.sql import Window\n",
    "\n",
    "w = Window.partitionBy(\"iso_code\").orderBy(col(\"date\").desc())\n",
    "\n",
    "last_week_of_march = df.select(weekofyear(\"date\").alias('week_num')).where((month(\"date\") == 3) & (year(\"date\") == 2021)).groupBy().max()\n",
    "\n",
    "df_3 = df.select(df[\"iso_code\"], df[\"date\"], df[\"new_cases\"],(weekofyear(\"date\")).alias('week_num')).where((year(\"date\") == 2021) & (col('iso_code') == 'RUS')).sort(col('week_num').desc())\n",
    "\n",
    "df_3 = df_3.select(df_3[\"date\"], df_3[\"new_cases\"], df_3[\"week_num\"], lead(df_3[\"new_cases\"]).over(w).alias('new_cases_yesterday')).na.fill(0).select(col(\"date\"), col(\"week_num\"),  col(\"new_cases\"), col('new_cases_yesterday'), (col('new_cases') - col('new_cases_yesterday')).alias('delta'))\n",
    "\n",
    "df_3.join(last_week_of_march, last_week_of_march[\"max(week_num)\"] == df_3[\"week_num\"]).show()"
   ]
  }
 ],
 "metadata": {
  "colab": {
   "collapsed_sections": [],
   "name": "HW_DPRO_2.ipynb",
   "provenance": []
  },
  "kernelspec": {
   "display_name": "Python 3 (ipykernel)",
   "language": "python",
   "name": "python3"
  },
  "language_info": {
   "codemirror_mode": {
    "name": "ipython",
    "version": 3
   },
   "file_extension": ".py",
   "mimetype": "text/x-python",
   "name": "python",
   "nbconvert_exporter": "python",
   "pygments_lexer": "ipython3",
   "version": "3.9.12"
  }
 },
 "nbformat": 4,
 "nbformat_minor": 1
}
