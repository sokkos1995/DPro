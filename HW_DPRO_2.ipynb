{
  "nbformat": 4,
  "nbformat_minor": 0,
  "metadata": {
    "colab": {
      "name": "HW_DPRO_2.ipynb",
      "provenance": [],
      "collapsed_sections": []
    },
    "kernelspec": {
      "name": "python3",
      "display_name": "Python 3"
    },
    "language_info": {
      "name": "python"
    }
  },
  "cells": [
    {
      "cell_type": "markdown",
      "source": [
        "ответ на 1 задание:"
      ],
      "metadata": {
        "id": "z_UfsIVY7Fla"
      }
    },
    {
      "cell_type": "code",
      "source": [
        "df_1 = df.select(df[\"iso_code\"], df[\"location\"], df[\"date\"], df[\"total_cases\"], df[\"icu_patients\"], df[\"hosp_patients\"], df[\"total_deaths\"], when(col('iso_code').startswith(\"OWID\"), '0').otherwise('1').alias('needness')).na.fill(0).where((df[\"date\"] == '2021-03-31') & (col('needness') == 1))\n",
        "\n",
        "df_1.select(df_1[\"iso_code\"], df_1[\"location\"], ((df_1[\"total_cases\"] - df_1[\"icu_patients\"] - df_1[\"hosp_patients\"] - df_1[\"total_deaths\"]) * 100 /df_1[\"total_cases\"]).alias('percent')).orderBy(col('percent').desc()).show(15)\n"
      ],
      "metadata": {
        "id": "hfQUMr1c7Ije"
      },
      "execution_count": null,
      "outputs": []
    },
    {
      "cell_type": "markdown",
      "source": [
        "ответ на 2 задание"
      ],
      "metadata": {
        "id": "6tCHqWGbX1XZ"
      }
    },
    {
      "cell_type": "code",
      "source": [
        "df_2 = df.select(df[\"date\"], df[\"location\"], df[\"new_cases\"], df[\"iso_code\"],\n",
        "                 (weekofyear(\"date\")).alias('week_num'), when(col('iso_code').startswith(\"OWID\"), '0').otherwise('1').alias('needness'))\n",
        "                .where((month(\"date\") == 3) & (year(\"date\") == 2021) & (col('needness') == 1))\n",
        "                .sort(col('week_num').desc(), col('new_cases').desc())\n",
        "\n",
        "df_2.select(df[\"date\"], df[\"location\"], df[\"new_cases\"]).show(10)"
      ],
      "metadata": {
        "id": "84O5lv3TX3dx"
      },
      "execution_count": null,
      "outputs": []
    },
    {
      "cell_type": "markdown",
      "source": [
        "ответ на 3 задание"
      ],
      "metadata": {
        "id": "E0r9L8ocEZzx"
      }
    },
    {
      "cell_type": "code",
      "source": [
        "from pyspark.sql import Window\n",
        "\n",
        "w = Window.partitionBy(\"iso_code\").orderBy(col(\"date\").desc())\n",
        "\n",
        "df_3 = df.select(df[\"iso_code\"], df[\"date\"], df[\"new_cases\"],(weekofyear(\"date\")).alias('week_num')).where((month(\"date\") == 3) & (year(\"date\") == 2021) & (col('iso_code') == 'RUS')).sort(col('week_num').desc()).show()\n",
        "\n",
        "df_3.select(df_3[\"date\"], df_3[\"new_cases\"], df_3[\"week_num\"], lead(df_3[\"new_cases\"]).over(w).alias('new_cases_yesterday')).na.fill(0).select(col(\"date\"), col(\"week_num\"),  col(\"new_cases\"), col('new_cases_yesterday'), (col('new_cases') - col('new_cases_yesterday')).alias('delta')).show()"
      ],
      "metadata": {
        "id": "Jz03YvurEcan"
      },
      "execution_count": null,
      "outputs": []
    }
  ]
}